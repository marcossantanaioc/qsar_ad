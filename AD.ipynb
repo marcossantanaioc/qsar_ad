{
 "cells": [
  {
   "cell_type": "code",
   "execution_count": null,
   "id": "11e063e8",
   "metadata": {},
   "outputs": [],
   "source": [
    "#default_exp applicability_domain"
   ]
  },
  {
   "cell_type": "code",
   "execution_count": null,
   "id": "e12b396e",
   "metadata": {},
   "outputs": [
    {
     "name": "stderr",
     "output_type": "stream",
     "text": [
      "WARNING:root:No normalization for BCUT2D_MWHI\n",
      "WARNING:root:No normalization for BCUT2D_MWLOW\n",
      "WARNING:root:No normalization for BCUT2D_CHGHI\n",
      "WARNING:root:No normalization for BCUT2D_CHGLO\n",
      "WARNING:root:No normalization for BCUT2D_LOGPHI\n",
      "WARNING:root:No normalization for BCUT2D_LOGPLOW\n",
      "WARNING:root:No normalization for BCUT2D_MRHI\n",
      "WARNING:root:No normalization for BCUT2D_MRLOW\n"
     ]
    },
    {
     "name": "stdout",
     "output_type": "stream",
     "text": [
      "Author: Marcos Santana\n",
      "\n",
      "Python implementation: CPython\n",
      "Python version       : 3.8.8\n",
      "IPython version      : 7.22.0\n",
      "\n",
      "sophosdata     : 1.3\n",
      "numpy          : 1.20.1\n",
      "pandas         : 1.1.3\n",
      "descriptastorus: 2.3.0.5\n",
      "joblib         : 0.17.0\n",
      "rdkit          : 2022.03.1\n",
      "tqdm           : 4.59.0\n",
      "fastcore       : 1.4.2\n",
      "\n"
     ]
    }
   ],
   "source": [
    "%reload_ext autoreload\n",
    "%autoreload 2\n",
    "%load_ext watermark\n",
    "%watermark -a 'Marcos Santana' -d -p sophosdata,numpy,pandas,descriptastorus,joblib,rdkit,tqdm,fastcore -v"
   ]
  },
  {
   "cell_type": "code",
   "execution_count": null,
   "id": "cc9300ee",
   "metadata": {},
   "outputs": [
    {
     "name": "stderr",
     "output_type": "stream",
     "text": [
      "/opt/anaconda3/lib/python3.8/site-packages/statsmodels/tsa/base/tsa_model.py:7: FutureWarning: pandas.Int64Index is deprecated and will be removed from pandas in a future version. Use pandas.Index with the appropriate dtype instead.\n",
      "  from pandas import (to_datetime, Int64Index, DatetimeIndex, Period,\n",
      "/opt/anaconda3/lib/python3.8/site-packages/statsmodels/tsa/base/tsa_model.py:7: FutureWarning: pandas.Float64Index is deprecated and will be removed from pandas in a future version. Use pandas.Index with the appropriate dtype instead.\n",
      "  from pandas import (to_datetime, Int64Index, DatetimeIndex, Period,\n"
     ]
    }
   ],
   "source": [
    "#export\n",
    "import pandas as pd\n",
    "import numpy as np\n",
    "from rdkit import Chem\n",
    "from scipy.spatial import distance"
   ]
  },
  {
   "cell_type": "code",
   "execution_count": null,
   "id": "ed6e19cc",
   "metadata": {},
   "outputs": [
    {
     "name": "stderr",
     "output_type": "stream",
     "text": [
      "[14:25:22] Initializing Normalizer\n",
      "/opt/anaconda3/lib/python3.8/site-packages/xgboost/compat.py:36: FutureWarning: pandas.Int64Index is deprecated and will be removed from pandas in a future version. Use pandas.Index with the appropriate dtype instead.\n",
      "  from pandas import MultiIndex, Int64Index\n"
     ]
    }
   ],
   "source": [
    "# import seaborn as sns\n",
    "# import matplotlib.pyplot as plt\n",
    "# from rdkit.Chem import Draw\n",
    "# import mols2grid\n",
    "# import joblib\n",
    "# from sophosdata.all import *"
   ]
  },
  {
   "cell_type": "markdown",
   "id": "dbf22a2e",
   "metadata": {},
   "source": [
    "# Load data"
   ]
  },
  {
   "cell_type": "code",
   "execution_count": null,
   "id": "686a5b78",
   "metadata": {},
   "outputs": [],
   "source": [
    "trainset = pd.read_csv('../Pf-PHEN_23_05_22_processed_dev_pIC50_5_classification_2022-05-23_trainset.csv')\n",
    "testset = pd.read_csv('../Pf-PHEN_23_05_22_processed_dev_pIC50_5_classification_2022-05-23_testset.csv')"
   ]
  },
  {
   "cell_type": "code",
   "execution_count": null,
   "id": "188e7857",
   "metadata": {},
   "outputs": [],
   "source": [
    "trainset.reset_index(drop=True,inplace=True)\n",
    "testset.reset_index(drop=True,inplace=True)"
   ]
  },
  {
   "cell_type": "markdown",
   "id": "70b8f26f",
   "metadata": {},
   "source": [
    "# Featurize"
   ]
  },
  {
   "cell_type": "code",
   "execution_count": null,
   "id": "2c554d88",
   "metadata": {},
   "outputs": [],
   "source": [
    "fingerprinter = Fingerprinter('ecfp')"
   ]
  },
  {
   "cell_type": "code",
   "execution_count": null,
   "id": "35b9540e",
   "metadata": {},
   "outputs": [],
   "source": [
    "Xtrain = fingerprinter.generate_features(trainset['processed_smiles'].values)\n",
    "Xtest = fingerprinter.generate_features(testset['processed_smiles'].values)\n",
    "X_sample = Xtest[0].reshape(1, Xtest.shape[1])"
   ]
  },
  {
   "cell_type": "code",
   "execution_count": null,
   "id": "64e27f83",
   "metadata": {},
   "outputs": [],
   "source": [
    "X_sample_2 = fingerprinter.generate_features([testset['processed_smiles'].values[0]])"
   ]
  },
  {
   "cell_type": "code",
   "execution_count": null,
   "id": "9803b8ec",
   "metadata": {},
   "outputs": [
    {
     "data": {
      "text/plain": [
       "(1, 1024)"
      ]
     },
     "execution_count": null,
     "metadata": {},
     "output_type": "execute_result"
    }
   ],
   "source": [
    "X_sample.shape"
   ]
  },
  {
   "cell_type": "code",
   "execution_count": null,
   "id": "8b645eaa",
   "metadata": {},
   "outputs": [],
   "source": [
    "np.testing.assert_array_equal(X_sample, X_sample_2)"
   ]
  },
  {
   "cell_type": "markdown",
   "id": "98325670",
   "metadata": {},
   "source": [
    "# Applicability domain"
   ]
  },
  {
   "cell_type": "markdown",
   "id": "6e278ac6",
   "metadata": {},
   "source": [
    "## K-nearest neighbours (Z-kNN)"
   ]
  },
  {
   "cell_type": "markdown",
   "id": "8df89cc8",
   "metadata": {},
   "source": [
    "**AD threshold**"
   ]
  },
  {
   "cell_type": "code",
   "execution_count": null,
   "id": "984882b3",
   "metadata": {},
   "outputs": [],
   "source": [
    "def calculate_similarity_from_array(fp1, fp2=None, metric='jaccard', z=0.5):\n",
    "    \n",
    "    \"\"\"Calculates a squared similarity matrix between two arrays of fingerprints\n",
    "    \n",
    "    Arguments\n",
    "    -----------------------------------------------------------------------------\n",
    "    \n",
    "    fp1 : numpy.array\n",
    "        An array of fingerprints.\n",
    "        \n",
    "    fp2 : numpy.array\n",
    "        Second array of fingerprints. If None, defaults to `fp1`.\n",
    "        \n",
    "    metric : str or callable, optional\n",
    "        The distance metric to use. \n",
    "        If a string, the distance function can be ‘braycurtis’, ‘canberra’, ‘chebyshev’,\n",
    "        ‘cityblock’, ‘correlation’, ‘cosine’, ‘dice’, ‘euclidean’, ‘hamming’, ‘jaccard’,\n",
    "        ‘jensenshannon’, ‘kulsinski’, ‘kulczynski1’, ‘mahalanobis’, ‘matching’, ‘minkowski’,\n",
    "        ‘rogerstanimoto’, ‘russellrao’, ‘seuclidean’, ‘sokalmichener’, ‘sokalsneath’, ‘sqeuclidean’, ‘yule’.\n",
    "        \n",
    "        \n",
    "    z : float\n",
    "        Significance threshold. See original publication for more details: https://pubs.acs.org/doi/10.1021/ci060132x\n",
    "        \n",
    "        \n",
    "    Returns\n",
    "    -----------------------------------------------------------------------------\n",
    "    \n",
    "    simi_matrix : numpy.array\n",
    "        A matrix with pairwise distance.\n",
    "    \n",
    "    \n",
    "    \"\"\"\n",
    "    \n",
    "    from scipy.spatial import distance\n",
    "    if fp2 is None:\n",
    "        simi_matrix = distance.cdist(fp1, fp1, metric=metric).squeeze()\n",
    "    else:\n",
    "        simi_matrix = distance.cdist(fp1, fp2, metric=metric).squeeze()\n",
    "    return simi_matrix\n",
    "\n",
    "def calculate_ad_threhold(X, metric='jaccard', z=0.5):\n",
    "        \n",
    "    \"\"\"Calculates the applicability domain threhold using k-NN method\n",
    "    \n",
    "    Arguments\n",
    "    -----------------------------------------------------------------------------\n",
    "    \n",
    "    X : numpy.array\n",
    "        An array of fingerprints.\n",
    "       \n",
    "    metric : str or callable, optional\n",
    "        The distance metric to use. \n",
    "        If a string, the distance function can be ‘braycurtis’, ‘canberra’, ‘chebyshev’,\n",
    "        ‘cityblock’, ‘correlation’, ‘cosine’, ‘dice’, ‘euclidean’, ‘hamming’, ‘jaccard’,\n",
    "        ‘jensenshannon’, ‘kulsinski’, ‘kulczynski1’, ‘mahalanobis’, ‘matching’, ‘minkowski’,\n",
    "        ‘rogerstanimoto’, ‘russellrao’, ‘seuclidean’, ‘sokalmichener’, ‘sokalsneath’, ‘sqeuclidean’, ‘yule’.\n",
    "              \n",
    "    z : float\n",
    "        Significance threshold. See original publication for more details: https://pubs.acs.org/doi/10.1021/ci060132x\n",
    "        \n",
    "        \n",
    "    Returns\n",
    "    -----------------------------------------------------------------------------\n",
    "    \n",
    "    ad_threshold : float\n",
    "        The distance threshold used to define the applicability domain.\n",
    "    \n",
    "    \n",
    "    \"\"\"\n",
    "    \n",
    "    from scipy.spatial import distance    \n",
    "    simi_matrix = calculate_similarity_from_array(X, metric=metric).squeeze()\n",
    "\n",
    "    std_distances = np.std(simi_matrix) # std of distances\n",
    "    avg_distances = np.mean(simi_matrix) # average of distances\n",
    "\n",
    "    # Applicability threhold\n",
    "    ad_threshold = (z*std_distances) + avg_distances\n",
    "    return ad_threshold\n",
    "\n",
    "\n"
   ]
  },
  {
   "cell_type": "code",
   "execution_count": null,
   "id": "1b68d4bd",
   "metadata": {},
   "outputs": [
    {
     "data": {
      "text/plain": [
       "0.9194734400235668"
      ]
     },
     "execution_count": null,
     "metadata": {},
     "output_type": "execute_result"
    }
   ],
   "source": [
    "ad_threhold = calculate_ad_threhold(Xtrain)\n",
    "\n",
    "ad_threhold\n"
   ]
  },
  {
   "cell_type": "markdown",
   "id": "3aa609e9",
   "metadata": {},
   "source": [
    "### **Get k-nearest neighbours**"
   ]
  },
  {
   "cell_type": "code",
   "execution_count": null,
   "id": "289fed38",
   "metadata": {},
   "outputs": [],
   "source": [
    "def get_knn(fp, ref_fps, k:int=10):\n",
    "    \n",
    "    \"\"\"Get the k-nearest neighbours and calculate the distance between fp and ref_fps.\n",
    "    \n",
    "    Arguments\n",
    "    -----------------------------------------------------------------------------\n",
    "    fp : numpy.array\n",
    "        Query fingerprint\n",
    "        \n",
    "    ref_fps : numpy.array\n",
    "        Reference fingerprints\n",
    "        \n",
    "    k : int\n",
    "        Number of k nearest neighbours\n",
    "        \n",
    "        \n",
    "    Returns\n",
    "    -----------------------------------------------------------------------------\n",
    "    distances : numpy.array\n",
    "        A matrix with pairwise distance.\n",
    "        \n",
    "    neighbours : numpy.array\n",
    "        Index of k-nearest neighbours\n",
    "    \n",
    "    \n",
    "    \"\"\"\n",
    "    \n",
    "    # Generate similarity matrix\n",
    "    distances = calculate_similarity_from_array(fp, ref_fps).reshape(len(fp), len(ref_fps))\n",
    "    # Get kNN\n",
    "    neighbours = np.argsort(distances, axis=-1).reshape(len(fp), len(ref_fps))\n",
    "    return distances, neighbours"
   ]
  },
  {
   "cell_type": "code",
   "execution_count": null,
   "id": "7e668fa6",
   "metadata": {},
   "outputs": [],
   "source": [
    "distances, neighbours = get_knn(Xtest, Xtrain)"
   ]
  },
  {
   "cell_type": "code",
   "execution_count": null,
   "id": "d5abc605",
   "metadata": {},
   "outputs": [
    {
     "data": {
      "text/plain": [
       "(2648,)"
      ]
     },
     "execution_count": null,
     "metadata": {},
     "output_type": "execute_result"
    }
   ],
   "source": [
    "distances[0].shape"
   ]
  },
  {
   "cell_type": "code",
   "execution_count": null,
   "id": "a460cce3",
   "metadata": {},
   "outputs": [
    {
     "data": {
      "text/plain": [
       "(1, 2648)"
      ]
     },
     "execution_count": null,
     "metadata": {},
     "output_type": "execute_result"
    }
   ],
   "source": [
    "distances_sample, neighbours_sample = get_knn(X_sample, Xtrain)\n",
    "distances_sample.shape"
   ]
  },
  {
   "cell_type": "code",
   "execution_count": null,
   "id": "e7a2832e",
   "metadata": {},
   "outputs": [],
   "source": [
    "np.testing.assert_equal(distances_sample[0], distances[0])"
   ]
  },
  {
   "cell_type": "code",
   "execution_count": null,
   "id": "979e07c0",
   "metadata": {},
   "outputs": [],
   "source": [
    "assert distances.shape[0] == Xtest.shape[0]\n",
    "assert distances.shape[1] == Xtrain.shape[0]"
   ]
  },
  {
   "cell_type": "code",
   "execution_count": null,
   "id": "b2640997",
   "metadata": {},
   "outputs": [],
   "source": [
    "kk = []\n",
    "for i in range(distances.shape[0]):\n",
    "    dst = distances[i]\n",
    "    neigh = neighbours[i, :10]\n",
    "    kk.append(dst[neigh])"
   ]
  },
  {
   "cell_type": "code",
   "execution_count": null,
   "id": "fbf26a13",
   "metadata": {},
   "outputs": [
    {
     "data": {
      "text/plain": [
       "array([0.33653846, 0.37037037, 0.42      , 0.42857143, 0.46078431,\n",
       "       0.47572816, 0.48543689, 0.49557522, 0.51351351, 0.52777778])"
      ]
     },
     "execution_count": null,
     "metadata": {},
     "output_type": "execute_result"
    }
   ],
   "source": [
    "kk[1]"
   ]
  },
  {
   "cell_type": "markdown",
   "id": "3ab35978",
   "metadata": {},
   "source": [
    "\n",
    "### **Calculate AD**"
   ]
  },
  {
   "cell_type": "code",
   "execution_count": null,
   "id": "203f5c39",
   "metadata": {},
   "outputs": [],
   "source": [
    "def calculate_applicability_domain(fp, ref_fp, z:float, k:int=10):\n",
    "    \n",
    "        \n",
    "    \"\"\"Get the k-nearest neighbours and calculate the distance between fp and ref_fps.\n",
    "    \n",
    "    Arguments\n",
    "    -----------------------------------------------------------------------------\n",
    "    \n",
    "    fp : numpy.array\n",
    "        Query fingerprint\n",
    "        \n",
    "    ref_fps : numpy.array\n",
    "        Reference fingerprints\n",
    "        \n",
    "    z : float\n",
    "        Significance threshold. See original publication for more details: https://pubs.acs.org/doi/10.1021/ci060132x     \n",
    "        \n",
    "    k : int\n",
    "        Number of k nearest neighbours\n",
    "        \n",
    "        \n",
    "    Returns\n",
    "    -----------------------------------------------------------------------------\n",
    "    \n",
    "    avg_distance : float\n",
    "        Average distance between query and k-nearest neighbours in AD.\n",
    "    \n",
    "    \n",
    "    \"\"\"\n",
    "    \n",
    "    ditances, neighbours = get_knn(fp, ref_fp, k=k)\n",
    "    avg_distance = np.take_along_axis(distances, neighbours[:, :k], 1).mean(-1)\n",
    "    return avg_distance"
   ]
  },
  {
   "cell_type": "code",
   "execution_count": null,
   "id": "a9e58325",
   "metadata": {},
   "outputs": [
    {
     "data": {
      "text/plain": [
       "array([ True])"
      ]
     },
     "execution_count": null,
     "metadata": {},
     "output_type": "execute_result"
    }
   ],
   "source": [
    "avg_distance = np.take_along_axis(distances_sample, neighbours_sample[:, :10], 1).mean(1)\n",
    "avg_distance>=0.5"
   ]
  },
  {
   "cell_type": "code",
   "execution_count": null,
   "id": "0d47b4de",
   "metadata": {},
   "outputs": [
    {
     "data": {
      "text/plain": [
       "0.9194734400235668"
      ]
     },
     "execution_count": null,
     "metadata": {},
     "output_type": "execute_result"
    }
   ],
   "source": [
    "ad_threhold"
   ]
  },
  {
   "cell_type": "code",
   "execution_count": null,
   "id": "934a2ba8",
   "metadata": {},
   "outputs": [
    {
     "data": {
      "text/plain": [
       "array([0.61098674, 0.45142961, 0.68963638, 0.61702224, 0.7618961 ,\n",
       "       0.79018336, 0.75093942, 0.63094869, 0.38533987, 0.68428936,\n",
       "       0.43575212, 0.71685246, 0.74289203, 0.74459016, 0.64661555,\n",
       "       0.61538241, 0.73866228, 0.7275278 , 0.73962316, 0.80795721,\n",
       "       0.74442247, 0.68261528, 0.6825706 , 0.75174508, 0.51730006,\n",
       "       0.50708319, 0.58156801, 0.55192986, 0.741607  , 0.44439823,\n",
       "       0.77118182, 0.77366232, 0.42336297, 0.50471898, 0.58877224,\n",
       "       0.70764503, 0.78797507, 0.79787541, 0.80716715, 0.43177211,\n",
       "       0.44788453, 0.44924766, 0.44195935, 0.50961282, 0.43075815,\n",
       "       0.47368817, 0.43531288, 0.62075708, 0.78179879, 0.7819906 ,\n",
       "       0.4340867 , 0.70932196, 0.76597742, 0.80265408, 0.76783991,\n",
       "       0.75218678, 0.7557019 , 0.74439282, 0.73959934, 0.74670102,\n",
       "       0.77886472, 0.79106291, 0.77540064, 0.77397191, 0.7580933 ,\n",
       "       0.78490432, 0.74573406, 0.78189105, 0.4331026 , 0.40482028,\n",
       "       0.45940859, 0.81010921, 0.25432034, 0.39463257, 0.35970342,\n",
       "       0.74758024, 0.68229416, 0.66848114, 0.61455984, 0.74704786,\n",
       "       0.56539845, 0.43969112, 0.56417225, 0.55339012, 0.33704413,\n",
       "       0.79419731, 0.81051448, 0.79559258, 0.66095012, 0.41698706,\n",
       "       0.26987445, 0.79152628, 0.76817043, 0.79540424, 0.7267804 ,\n",
       "       0.3561335 , 0.76245926, 0.82640587, 0.75893903, 0.51220483,\n",
       "       0.80347834, 0.77052468, 0.74943865, 0.44404965, 0.5536329 ,\n",
       "       0.63839091, 0.59637541, 0.38042687, 0.33427015, 0.67969554,\n",
       "       0.71090997, 0.65379733, 0.76059296, 0.41567753, 0.83311387,\n",
       "       0.74436298, 0.77689799, 0.60345243, 0.75717966, 0.43968949,\n",
       "       0.64403663, 0.77881284, 0.70839998, 0.41135323, 0.65288032,\n",
       "       0.783106  , 0.70185424, 0.75219369, 0.8025951 , 0.83422036,\n",
       "       0.76475027, 0.74744993, 0.71063517, 0.61731321, 0.7824675 ,\n",
       "       0.38893157, 0.78429689, 0.81799549, 0.77294363, 0.46015541,\n",
       "       0.62556404, 0.59848543, 0.68639861, 0.7777314 , 0.45380667,\n",
       "       0.77796861, 0.75216827, 0.56542109, 0.58265061, 0.5839632 ,\n",
       "       0.67981677, 0.76529574, 0.71200843, 0.76137011, 0.79711811,\n",
       "       0.75213012, 0.39222518, 0.81859334, 0.79957213, 0.56260489,\n",
       "       0.61821762, 0.57507386, 0.57490557, 0.54380978, 0.5211311 ,\n",
       "       0.62978465, 0.72799187, 0.69880054, 0.7824048 , 0.75898328,\n",
       "       0.79009176, 0.74959413, 0.56821734, 0.70133223, 0.77426783,\n",
       "       0.78929734, 0.74575806, 0.63843317, 0.64340481, 0.64935496,\n",
       "       0.64204364, 0.48340806, 0.62184856, 0.60056731, 0.56790527,\n",
       "       0.64542249, 0.64691723, 0.45481462, 0.62048414, 0.60829044,\n",
       "       0.43547948, 0.66290613, 0.50122272, 0.45989691, 0.60053324,\n",
       "       0.49638536, 0.64661875, 0.6468085 , 0.62757333, 0.72546699,\n",
       "       0.50357779, 0.4673863 , 0.51443622, 0.46728609, 0.46955817,\n",
       "       0.43821092, 0.60107304, 0.6205041 , 0.74447849, 0.77586813,\n",
       "       0.37873303, 0.72899649, 0.72031324, 0.79193877, 0.53336255,\n",
       "       0.75505814, 0.74226573, 0.74617659, 0.7281476 , 0.49931787,\n",
       "       0.4409948 , 0.64248286, 0.69695175, 0.47007876, 0.7534882 ,\n",
       "       0.25541483, 0.46810881, 0.43658436, 0.76548116, 0.76188509,\n",
       "       0.75227899, 0.53720147, 0.77657668, 0.7292268 , 0.81537597,\n",
       "       0.65351256, 0.78570863, 0.74420813, 0.74174571, 0.78162141,\n",
       "       0.77911592, 0.38556816, 0.44398886, 0.52818173, 0.76260087,\n",
       "       0.31171125, 0.33349939, 0.36462356, 0.75573789, 0.79392616,\n",
       "       0.51725441, 0.41792427, 0.39693296, 0.59985456, 0.72852889,\n",
       "       0.71616884, 0.53709378, 0.7435633 , 0.73171344, 0.74134518,\n",
       "       0.4792656 , 0.55993894, 0.39096108, 0.82249384, 0.38238429,\n",
       "       0.54461558, 0.66501696, 0.67671211, 0.66472052, 0.63647139,\n",
       "       0.77020121, 0.72556706, 0.43237886, 0.81039086, 0.80965221,\n",
       "       0.78767102, 0.80165739, 0.59070084, 0.8113385 , 0.77987379,\n",
       "       0.53952544, 0.66960875, 0.3522279 , 0.38323546, 0.40898614,\n",
       "       0.67142112, 0.66054189, 0.77467659, 0.7543069 , 0.74331506,\n",
       "       0.57784397, 0.7244477 , 0.45177521, 0.6225201 , 0.31758372,\n",
       "       0.65407279, 0.58774818, 0.69285968, 0.47097442, 0.53181077,\n",
       "       0.79862774, 0.7906732 , 0.7355286 , 0.45911194, 0.45460119,\n",
       "       0.46243753, 0.40128351, 0.55926653, 0.49395078, 0.74449829,\n",
       "       0.69649764, 0.45431432, 0.6775485 , 0.6165945 , 0.73233583,\n",
       "       0.71552079, 0.69257031, 0.66844481, 0.76406167, 0.63501352,\n",
       "       0.63326162, 0.79048701, 0.75723811, 0.80230782, 0.78564125,\n",
       "       0.74925231, 0.76937487, 0.48373186, 0.66736025, 0.7518136 ,\n",
       "       0.79716399, 0.72804719, 0.68985961, 0.77479418, 0.4037614 ,\n",
       "       0.69324315, 0.72380226, 0.70144325, 0.74850637, 0.64699861,\n",
       "       0.67383751, 0.69674315, 0.63738687, 0.40321807, 0.63383697,\n",
       "       0.47256646, 0.74851496, 0.65131083, 0.7505965 , 0.77241368,\n",
       "       0.65931824, 0.48646404, 0.4895813 , 0.67746816, 0.66260865,\n",
       "       0.68715031, 0.79214137, 0.583317  , 0.49567237, 0.80578582,\n",
       "       0.73677243, 0.77108568, 0.76517424, 0.54473429, 0.76964014,\n",
       "       0.78263684, 0.64076569, 0.6766517 , 0.73635709, 0.75096319,\n",
       "       0.74761675, 0.63345259, 0.4188879 , 0.41897212, 0.43517533,\n",
       "       0.80244443, 0.69655   , 0.77870389, 0.783204  , 0.74851235,\n",
       "       0.58616133, 0.66790028, 0.66615905, 0.6272653 , 0.63647117,\n",
       "       0.79915051, 0.72816784, 0.79424931, 0.74791106, 0.69875712,\n",
       "       0.71778327, 0.74057901, 0.76823851, 0.58281898, 0.79117939,\n",
       "       0.81586593, 0.74979244, 0.75041641, 0.69956354, 0.65480004,\n",
       "       0.68997759, 0.69720596, 0.72663978, 0.73385489, 0.75524054,\n",
       "       0.64587799, 0.79684847, 0.80116229, 0.61403041, 0.63849517,\n",
       "       0.67099513, 0.69633242, 0.681845  , 0.63634873, 0.67967322,\n",
       "       0.65617121, 0.69427988, 0.75536967, 0.66683847, 0.60450241,\n",
       "       0.68343549, 0.68031171, 0.67426036, 0.67361502, 0.71247079,\n",
       "       0.69133091, 0.69143737, 0.67234762, 0.76756249, 0.63303435,\n",
       "       0.48373223, 0.5161331 , 0.59026708, 0.65456856, 0.66032152,\n",
       "       0.65799682, 0.56979104, 0.48557827, 0.72972743, 0.73445083,\n",
       "       0.67400081, 0.72436741, 0.70327428, 0.7313371 , 0.7219009 ,\n",
       "       0.72854513, 0.74376469, 0.7534261 , 0.75071464, 0.77576035,\n",
       "       0.73272753, 0.44317234, 0.41677277, 0.45350935, 0.46247808,\n",
       "       0.45767173, 0.74184538, 0.75165294, 0.68161664, 0.71443736,\n",
       "       0.82577731, 0.73745408, 0.79236579, 0.72661654, 0.68062185,\n",
       "       0.78886511, 0.77172547, 0.78209204, 0.51340274, 0.74542352,\n",
       "       0.49599802, 0.73886998, 0.81636844, 0.64853876, 0.75904594,\n",
       "       0.66893004, 0.57548499, 0.58310903, 0.74619467, 0.78874539,\n",
       "       0.64625155, 0.55250081, 0.70655491, 0.73416284, 0.68953766,\n",
       "       0.71380807, 0.72825493, 0.71938495, 0.69700363, 0.62205501,\n",
       "       0.64479794, 0.53558919, 0.55221767, 0.69729925, 0.68750388,\n",
       "       0.74110878, 0.74872779, 0.73227609, 0.47173918, 0.55297699,\n",
       "       0.48906525, 0.75752334, 0.37621476, 0.3847206 , 0.77713688,\n",
       "       0.77466854, 0.75740215, 0.70787321, 0.75645163, 0.63374392,\n",
       "       0.74915937, 0.74574048, 0.73935617, 0.84385243, 0.55600745,\n",
       "       0.68526701, 0.71018106, 0.66658157, 0.59218467, 0.68783176,\n",
       "       0.64505656, 0.62633849, 0.64591748, 0.63663564, 0.63311074,\n",
       "       0.74937109, 0.81065869, 0.80333827, 0.75187545, 0.77049714,\n",
       "       0.76426017, 0.79932586, 0.77491457, 0.36840003, 0.3758722 ,\n",
       "       0.61833643, 0.71133443, 0.47677192, 0.59917686, 0.78746643,\n",
       "       0.39972926, 0.4055353 , 0.56569709, 0.43518704, 0.44016069,\n",
       "       0.43393278, 0.46384844, 0.39123878, 0.55552222, 0.44402613,\n",
       "       0.385623  , 0.3868699 , 0.55798131, 0.6011617 , 0.37076684,\n",
       "       0.47713154, 0.42278151, 0.49170579, 0.42819767, 0.39277037,\n",
       "       0.37201713, 0.53966066, 0.37532693, 0.43648293, 0.3464456 ,\n",
       "       0.75736668, 0.58634078, 0.6108612 , 0.59962915, 0.77324835,\n",
       "       0.78041563, 0.71906104, 0.78308007, 0.26767151, 0.66082139,\n",
       "       0.75582742, 0.69265355, 0.59949193, 0.77636957, 0.82648881,\n",
       "       0.75792474, 0.67555722, 0.78788692, 0.72121959, 0.73988916,\n",
       "       0.69160587, 0.69490038, 0.73963232, 0.6143618 , 0.73974078,\n",
       "       0.78485191, 0.77477659, 0.74861709, 0.73560763, 0.81932815,\n",
       "       0.6037487 , 0.7461686 , 0.74039131, 0.76198901, 0.68959053,\n",
       "       0.70477223, 0.67274886, 0.52395831, 0.38915777, 0.73942902,\n",
       "       0.64171601, 0.65157136, 0.66076243, 0.71403578, 0.68889231,\n",
       "       0.44868239, 0.44823613, 0.61039591, 0.39132934, 0.68087507,\n",
       "       0.72699444, 0.72095273, 0.65192844, 0.61519658, 0.74484264,\n",
       "       0.64713115, 0.60927321, 0.65687827, 0.69741283, 0.63489288,\n",
       "       0.64567931, 0.68433789, 0.62654074, 0.46608061, 0.73918375,\n",
       "       0.75525806, 0.79418966, 0.74013026, 0.76231161, 0.78069809,\n",
       "       0.79902719, 0.48581855, 0.43544509, 0.44070615, 0.37642789,\n",
       "       0.36392692, 0.67990299, 0.4956725 , 0.43640465, 0.46116594,\n",
       "       0.84170441, 0.62031862, 0.56279516, 0.56625113, 0.56315908,\n",
       "       0.58787445, 0.60278722, 0.73761046, 0.68064729, 0.74028588,\n",
       "       0.73844034, 0.74312618, 0.47677085, 0.55403029, 0.73278021,\n",
       "       0.77089495, 0.31812373, 0.71219436])"
      ]
     },
     "execution_count": null,
     "metadata": {},
     "output_type": "execute_result"
    }
   ],
   "source": [
    "calculate_applicability_domain(Xtest, Xtrain, z=ad_threhold)"
   ]
  },
  {
   "cell_type": "code",
   "execution_count": null,
   "id": "55b8d0a7",
   "metadata": {},
   "outputs": [],
   "source": [
    "# # setup the grid\n",
    "# grid = mols2grid.MolGrid(trainset.iloc[neighbours], smiles_col=\"processed_smiles\", size=(200, 180), name=\"Hs-HEPG2\")\n",
    "# grid.display(subset=[\"ID\",\"img\"], n_cols=4, n_rows=3)"
   ]
  },
  {
   "cell_type": "markdown",
   "id": "7e00d015",
   "metadata": {},
   "source": [
    "# Refactor"
   ]
  },
  {
   "cell_type": "code",
   "execution_count": null,
   "id": "5ab6e8e3",
   "metadata": {},
   "outputs": [],
   "source": [
    "#export\n",
    "class BaseDomain:\n",
    "     def calculate_applicability_domain(self):\n",
    "        pass"
   ]
  },
  {
   "cell_type": "code",
   "execution_count": null,
   "id": "ad74e97e",
   "metadata": {},
   "outputs": [],
   "source": [
    "#export\n",
    "class kNNDomain(BaseDomain):\n",
    "    \n",
    "    def __init__(self, Xref:np.array, metric='euclidean'):\n",
    "        \n",
    "        \"\"\"Calculates the applicability domain using the k-nearest neighbours approach\n",
    "        \n",
    "        Attributes\n",
    "        -----------------------------------------------------------------------------\n",
    "        \n",
    "        Xref : numpy.array\n",
    "            Reference fingerprints         \n",
    "\n",
    "        metric : str or callable, optional\n",
    "            The distance metric to use. \n",
    "            If a string, the distance function can be ‘braycurtis’, ‘canberra’, ‘chebyshev’,\n",
    "            ‘cityblock’, ‘correlation’, ‘cosine’, ‘dice’, ‘euclidean’, ‘hamming’, ‘jaccard’,\n",
    "            ‘jensenshannon’, ‘kulsinski’, ‘kulczynski1’, ‘mahalanobis’, ‘matching’, ‘minkowski’,\n",
    "            ‘rogerstanimoto’, ‘russellrao’, ‘seuclidean’, ‘sokalmichener’, ‘sokalsneath’, ‘sqeuclidean’, ‘yule’.\n",
    "\n",
    "        \n",
    "        \n",
    "        \"\"\"\n",
    "        \n",
    "        \n",
    "        self.Xref = Xref\n",
    "        self.metric = metric\n",
    "        self.ad_threshold = self.calculate_ad_threhold(metric=metric)\n",
    "        \n",
    "        \n",
    "    @property\n",
    "    def ad_threshold(self):\n",
    "        return self._ad_threshold\n",
    " \n",
    "    @ad_threshold.setter\n",
    "    def ad_threshold(self, v):\n",
    "        self._ad_threshold = v      \n",
    "\n",
    "    def calculate_similarity_from_array(self, fp1:np.array, fp2:np.array=None, metric:str=None, z=0.5):\n",
    "\n",
    "        \"\"\"Calculates a squared similarity matrix between two arrays of fingerprints\n",
    "\n",
    "        Arguments\n",
    "        -----------------------------------------------------------------------------\n",
    "\n",
    "        fp1 : numpy.array\n",
    "            An array of fingerprints.\n",
    "\n",
    "        fp2 : numpy.array\n",
    "            Second array of fingerprints. If None, defaults to `fp1`.\n",
    "            \n",
    "        metric : str or callable, optional\n",
    "            The distance metric to use. \n",
    "            If a string, the distance function can be ‘braycurtis’, ‘canberra’, ‘chebyshev’,\n",
    "            ‘cityblock’, ‘correlation’, ‘cosine’, ‘dice’, ‘euclidean’, ‘hamming’, ‘jaccard’,\n",
    "            ‘jensenshannon’, ‘kulsinski’, ‘kulczynski1’, ‘mahalanobis’, ‘matching’, ‘minkowski’,\n",
    "            ‘rogerstanimoto’, ‘russellrao’, ‘seuclidean’, ‘sokalmichener’, ‘sokalsneath’, ‘sqeuclidean’, ‘yule’.\n",
    "\n",
    "\n",
    "        z : float\n",
    "            Significance threshold. See original publication for more details: https://pubs.acs.org/doi/10.1021/ci060132x\n",
    "\n",
    "\n",
    "        Returns\n",
    "        -----------------------------------------------------------------------------\n",
    "\n",
    "        simi_matrix : numpy.array\n",
    "            A matrix with pairwise distance.\n",
    "\n",
    "\n",
    "        \"\"\"\n",
    "\n",
    "        from scipy.spatial import distance\n",
    "        if fp2 is None:\n",
    "            simi_matrix = distance.cdist(fp1, fp1, metric=metric).squeeze()\n",
    "        else:\n",
    "            simi_matrix = distance.cdist(fp1, fp2, metric=metric).squeeze()\n",
    "        return simi_matrix\n",
    "\n",
    "    def calculate_ad_threhold(self, X:np.array=None,  metric:str=None, z=0.5):\n",
    "\n",
    "        \"\"\"Calculates the applicability domain threhold using k-NN method\n",
    "\n",
    "        Arguments\n",
    "        -----------------------------------------------------------------------------\n",
    "\n",
    "        X : numpy.array\n",
    "            An array of fingerprints.\n",
    "            \n",
    "        metric : str or callable, optional\n",
    "            The distance metric to use. \n",
    "            If a string, the distance function can be ‘braycurtis’, ‘canberra’, ‘chebyshev’,\n",
    "            ‘cityblock’, ‘correlation’, ‘cosine’, ‘dice’, ‘euclidean’, ‘hamming’, ‘jaccard’,\n",
    "            ‘jensenshannon’, ‘kulsinski’, ‘kulczynski1’, ‘mahalanobis’, ‘matching’, ‘minkowski’,\n",
    "            ‘rogerstanimoto’, ‘russellrao’, ‘seuclidean’, ‘sokalmichener’, ‘sokalsneath’, ‘sqeuclidean’, ‘yule’.\n",
    "\n",
    "        z : float\n",
    "            Significance threshold. See original publication for more details: https://pubs.acs.org/doi/10.1021/ci060132x\n",
    "\n",
    "\n",
    "        Returns\n",
    "        -----------------------------------------------------------------------------\n",
    "\n",
    "        ad_threshold : float\n",
    "            The distance threshold used to define the applicability domain.\n",
    "\n",
    "\n",
    "        \"\"\"\n",
    "\n",
    "        from scipy.spatial import distance\n",
    "\n",
    "        X = self.Xref if X is None else X\n",
    "        simi_matrix = self.calculate_similarity_from_array(X, metric=metric).squeeze()\n",
    "\n",
    "        std_distances = np.std(simi_matrix) # std of distances\n",
    "        avg_distances = np.mean(simi_matrix) # average of distances\n",
    "\n",
    "        # Applicability threhold\n",
    "        ad_threshold = (z*std_distances) + avg_distances\n",
    "        return ad_threshold\n",
    "\n",
    "    def get_knn(self, fp:np.array, ref_fp:np.array=None, k:int=10):\n",
    "\n",
    "        \"\"\"Get the k-nearest neighbours and calculate the distance between fp and ref_fps.\n",
    "\n",
    "        Arguments\n",
    "        -----------------------------------------------------------------------------\n",
    "        fp : numpy.array\n",
    "            Query fingerprint\n",
    "\n",
    "        ref_fps : numpy.array\n",
    "            Reference fingerprints\n",
    "            \n",
    "        k : int\n",
    "            Number of k nearest neighbours\n",
    "\n",
    "\n",
    "        Returns\n",
    "        -----------------------------------------------------------------------------\n",
    "        distances : numpy.array\n",
    "            A matrix with pairwise distance.\n",
    "\n",
    "        neighbours : numpy.array\n",
    "            Index of k-nearest neighbours\n",
    "\n",
    "\n",
    "        \"\"\"\n",
    "    \n",
    "        # Generate similarity matrix\n",
    "        ref_fp = self.Xref if ref_fp is None else ref_fp\n",
    "        distances = self.calculate_similarity_from_array(fp, ref_fp, metric=self.metric).reshape(len(fp), len(ref_fp))\n",
    "        # Get kNN\n",
    "        neighbours = np.argsort(distances, axis=-1).reshape(len(fp), len(ref_fp))\n",
    "        return distances, neighbours\n",
    "#         # Generate similarity matrix\n",
    "#         ref_fp = self.Xref if ref_fp is None else ref_fp\n",
    "#         distances = self.calculate_similarity_from_array(fp, ref_fp)\n",
    "#         # Get kNN\n",
    "#         neighbours = np.argsort(distances)[: k]\n",
    "#         return distances, neighbours\n",
    "\n",
    "    def calculate_applicability_domain(self, fp:np.array, ref_fp:np.array=None, k:int=10):\n",
    "\n",
    "\n",
    "        \"\"\"Get the k-nearest neighbours and calculate the distance between fp and ref_fps.\n",
    "\n",
    "        Arguments\n",
    "        -----------------------------------------------------------------------------\n",
    "\n",
    "        fp : numpy.array\n",
    "            Query fingerprint\n",
    "\n",
    "        ref_fps : numpy.array\n",
    "            Reference fingerprints\n",
    "\n",
    "        k : int\n",
    "            Number of k nearest neighbours\n",
    "\n",
    "        Returns\n",
    "        -----------------------------------------------------------------------------\n",
    "\n",
    "        avg_distance : float\n",
    "            Average distance between query and k-nearest neighbours in AD.\n",
    "\n",
    "\n",
    "        \"\"\"\n",
    "        assert k >=1, \"k must be >= 1.\"\n",
    "        ref_fp = self.Xref if ref_fp is None else ref_fp\n",
    "        distances, neighbours = self.get_knn(fp, ref_fp, k=k)\n",
    "        avg_distance = np.take_along_axis(distances, neighbours[:, :k], 1).mean(-1)\n",
    "        return (avg_distance,avg_distance<=self.ad_threshold)\n",
    "\n",
    "        #avg_distance = distances[neighbours].mean()\n",
    "        #return (avg_distance, True) if avg_distance <= self.ad_threshold else (avg_distance, False)"
   ]
  },
  {
   "cell_type": "code",
   "execution_count": null,
   "id": "15bf12f7",
   "metadata": {},
   "outputs": [],
   "source": [
    "ad_knn = kNNDomain(Xref=Xtrain, metric='euclidean')"
   ]
  },
  {
   "cell_type": "code",
   "execution_count": null,
   "id": "3e447a3b",
   "metadata": {},
   "outputs": [
    {
     "data": {
      "text/plain": [
       "9.958452035589074"
      ]
     },
     "execution_count": null,
     "metadata": {},
     "output_type": "execute_result"
    }
   ],
   "source": [
    "ad_knn.ad_threshold"
   ]
  },
  {
   "cell_type": "code",
   "execution_count": null,
   "id": "b8c1f54f",
   "metadata": {},
   "outputs": [],
   "source": [
    "avg_distance = ad_knn.calculate_applicability_domain(Xtest, k=1)"
   ]
  },
  {
   "cell_type": "code",
   "execution_count": null,
   "id": "5b5739fb",
   "metadata": {},
   "outputs": [
    {
     "data": {
      "text/plain": [
       "array([ True,  True,  True,  True,  True,  True,  True,  True,  True,\n",
       "        True,  True,  True,  True,  True,  True,  True,  True,  True,\n",
       "        True,  True,  True,  True,  True,  True,  True,  True,  True,\n",
       "        True,  True,  True,  True,  True,  True,  True,  True,  True,\n",
       "        True,  True,  True,  True,  True,  True,  True,  True,  True,\n",
       "        True,  True,  True,  True,  True,  True,  True,  True,  True,\n",
       "        True,  True,  True,  True,  True,  True,  True,  True,  True,\n",
       "        True,  True,  True,  True,  True,  True,  True,  True,  True,\n",
       "        True,  True,  True,  True,  True,  True,  True,  True,  True,\n",
       "        True,  True,  True,  True,  True,  True,  True,  True,  True,\n",
       "        True,  True,  True,  True,  True,  True,  True,  True,  True,\n",
       "        True,  True,  True,  True,  True,  True,  True,  True,  True,\n",
       "        True,  True,  True,  True,  True,  True,  True,  True,  True,\n",
       "        True,  True,  True,  True,  True,  True,  True,  True,  True,\n",
       "        True,  True,  True,  True,  True,  True,  True,  True,  True,\n",
       "        True,  True,  True,  True,  True,  True,  True,  True,  True,\n",
       "        True,  True,  True,  True,  True,  True,  True,  True,  True,\n",
       "        True,  True,  True,  True,  True,  True,  True,  True,  True,\n",
       "        True,  True,  True,  True,  True,  True,  True,  True,  True,\n",
       "        True,  True,  True,  True,  True,  True,  True,  True,  True,\n",
       "        True,  True,  True,  True,  True,  True,  True,  True,  True,\n",
       "        True,  True,  True,  True,  True,  True,  True,  True,  True,\n",
       "        True,  True,  True,  True,  True,  True,  True,  True,  True,\n",
       "        True,  True,  True,  True,  True,  True,  True,  True,  True,\n",
       "        True,  True,  True,  True,  True,  True,  True,  True,  True,\n",
       "        True,  True,  True,  True,  True,  True,  True,  True,  True,\n",
       "        True,  True,  True,  True,  True,  True,  True,  True,  True,\n",
       "        True,  True,  True,  True,  True,  True,  True,  True,  True,\n",
       "        True,  True,  True,  True,  True,  True,  True,  True,  True,\n",
       "        True,  True,  True,  True,  True,  True,  True,  True,  True,\n",
       "        True,  True,  True,  True,  True,  True,  True,  True,  True,\n",
       "        True,  True,  True,  True,  True,  True,  True,  True,  True,\n",
       "        True,  True,  True,  True,  True,  True,  True,  True,  True,\n",
       "        True,  True,  True,  True,  True,  True,  True,  True,  True,\n",
       "        True,  True,  True,  True,  True,  True,  True,  True,  True,\n",
       "        True,  True,  True,  True,  True,  True,  True,  True,  True,\n",
       "        True,  True,  True,  True,  True,  True,  True,  True,  True,\n",
       "        True,  True,  True,  True,  True,  True,  True,  True,  True,\n",
       "        True,  True,  True,  True,  True,  True,  True,  True,  True,\n",
       "        True,  True,  True,  True,  True,  True,  True,  True,  True,\n",
       "        True,  True,  True,  True,  True,  True,  True,  True,  True,\n",
       "        True,  True,  True,  True,  True,  True,  True,  True,  True,\n",
       "        True,  True,  True,  True,  True,  True,  True,  True,  True,\n",
       "        True,  True,  True,  True,  True,  True,  True,  True,  True,\n",
       "        True,  True,  True,  True,  True,  True,  True,  True,  True,\n",
       "        True,  True,  True,  True,  True,  True,  True,  True,  True,\n",
       "        True,  True,  True,  True,  True,  True,  True,  True,  True,\n",
       "        True,  True,  True,  True,  True,  True,  True,  True,  True,\n",
       "        True,  True,  True,  True,  True,  True,  True,  True,  True,\n",
       "        True,  True,  True,  True,  True,  True,  True,  True,  True,\n",
       "        True,  True,  True,  True,  True,  True,  True,  True,  True,\n",
       "        True,  True,  True,  True,  True,  True,  True,  True,  True,\n",
       "        True,  True,  True,  True,  True,  True,  True,  True,  True,\n",
       "        True,  True,  True,  True,  True,  True,  True,  True,  True,\n",
       "        True,  True,  True,  True,  True,  True,  True,  True,  True,\n",
       "        True,  True,  True,  True,  True,  True,  True,  True,  True,\n",
       "        True,  True,  True,  True,  True,  True,  True,  True,  True,\n",
       "        True,  True,  True,  True,  True,  True,  True,  True,  True,\n",
       "        True,  True,  True,  True,  True,  True,  True,  True,  True,\n",
       "        True,  True,  True,  True,  True,  True,  True,  True,  True,\n",
       "        True,  True,  True,  True,  True,  True,  True,  True,  True,\n",
       "        True,  True,  True,  True,  True,  True,  True,  True,  True,\n",
       "        True,  True,  True,  True,  True,  True,  True,  True,  True,\n",
       "        True,  True,  True,  True,  True,  True,  True,  True,  True,\n",
       "        True,  True,  True,  True,  True,  True,  True,  True,  True,\n",
       "        True,  True,  True,  True,  True,  True,  True,  True,  True,\n",
       "        True,  True,  True,  True,  True,  True,  True,  True,  True,\n",
       "        True,  True,  True,  True,  True,  True,  True,  True,  True,\n",
       "        True,  True,  True,  True,  True,  True,  True,  True,  True,\n",
       "        True,  True,  True,  True,  True,  True,  True,  True,  True,\n",
       "        True,  True,  True,  True,  True,  True,  True,  True,  True,\n",
       "        True,  True,  True,  True,  True,  True,  True,  True,  True,\n",
       "        True,  True,  True,  True,  True,  True,  True,  True,  True,\n",
       "        True,  True,  True,  True,  True,  True])"
      ]
     },
     "execution_count": null,
     "metadata": {},
     "output_type": "execute_result"
    }
   ],
   "source": [
    "avg_distance[1]"
   ]
  },
  {
   "cell_type": "markdown",
   "id": "f0be4760",
   "metadata": {},
   "source": [
    "# OneClass SVM"
   ]
  },
  {
   "cell_type": "code",
   "execution_count": null,
   "id": "ef5d2efe",
   "metadata": {},
   "outputs": [],
   "source": [
    "from sklearn.svm import OneClassSVM"
   ]
  },
  {
   "cell_type": "code",
   "execution_count": null,
   "id": "23a66d5d",
   "metadata": {},
   "outputs": [],
   "source": [
    "model = OneClassSVM()"
   ]
  },
  {
   "cell_type": "code",
   "execution_count": null,
   "id": "914cbf30",
   "metadata": {},
   "outputs": [
    {
     "data": {
      "text/html": [
       "<style>#sk-container-id-1 {color: black;background-color: white;}#sk-container-id-1 pre{padding: 0;}#sk-container-id-1 div.sk-toggleable {background-color: white;}#sk-container-id-1 label.sk-toggleable__label {cursor: pointer;display: block;width: 100%;margin-bottom: 0;padding: 0.3em;box-sizing: border-box;text-align: center;}#sk-container-id-1 label.sk-toggleable__label-arrow:before {content: \"▸\";float: left;margin-right: 0.25em;color: #696969;}#sk-container-id-1 label.sk-toggleable__label-arrow:hover:before {color: black;}#sk-container-id-1 div.sk-estimator:hover label.sk-toggleable__label-arrow:before {color: black;}#sk-container-id-1 div.sk-toggleable__content {max-height: 0;max-width: 0;overflow: hidden;text-align: left;background-color: #f0f8ff;}#sk-container-id-1 div.sk-toggleable__content pre {margin: 0.2em;color: black;border-radius: 0.25em;background-color: #f0f8ff;}#sk-container-id-1 input.sk-toggleable__control:checked~div.sk-toggleable__content {max-height: 200px;max-width: 100%;overflow: auto;}#sk-container-id-1 input.sk-toggleable__control:checked~label.sk-toggleable__label-arrow:before {content: \"▾\";}#sk-container-id-1 div.sk-estimator input.sk-toggleable__control:checked~label.sk-toggleable__label {background-color: #d4ebff;}#sk-container-id-1 div.sk-label input.sk-toggleable__control:checked~label.sk-toggleable__label {background-color: #d4ebff;}#sk-container-id-1 input.sk-hidden--visually {border: 0;clip: rect(1px 1px 1px 1px);clip: rect(1px, 1px, 1px, 1px);height: 1px;margin: -1px;overflow: hidden;padding: 0;position: absolute;width: 1px;}#sk-container-id-1 div.sk-estimator {font-family: monospace;background-color: #f0f8ff;border: 1px dotted black;border-radius: 0.25em;box-sizing: border-box;margin-bottom: 0.5em;}#sk-container-id-1 div.sk-estimator:hover {background-color: #d4ebff;}#sk-container-id-1 div.sk-parallel-item::after {content: \"\";width: 100%;border-bottom: 1px solid gray;flex-grow: 1;}#sk-container-id-1 div.sk-label:hover label.sk-toggleable__label {background-color: #d4ebff;}#sk-container-id-1 div.sk-serial::before {content: \"\";position: absolute;border-left: 1px solid gray;box-sizing: border-box;top: 0;bottom: 0;left: 50%;z-index: 0;}#sk-container-id-1 div.sk-serial {display: flex;flex-direction: column;align-items: center;background-color: white;padding-right: 0.2em;padding-left: 0.2em;position: relative;}#sk-container-id-1 div.sk-item {position: relative;z-index: 1;}#sk-container-id-1 div.sk-parallel {display: flex;align-items: stretch;justify-content: center;background-color: white;position: relative;}#sk-container-id-1 div.sk-item::before, #sk-container-id-1 div.sk-parallel-item::before {content: \"\";position: absolute;border-left: 1px solid gray;box-sizing: border-box;top: 0;bottom: 0;left: 50%;z-index: -1;}#sk-container-id-1 div.sk-parallel-item {display: flex;flex-direction: column;z-index: 1;position: relative;background-color: white;}#sk-container-id-1 div.sk-parallel-item:first-child::after {align-self: flex-end;width: 50%;}#sk-container-id-1 div.sk-parallel-item:last-child::after {align-self: flex-start;width: 50%;}#sk-container-id-1 div.sk-parallel-item:only-child::after {width: 0;}#sk-container-id-1 div.sk-dashed-wrapped {border: 1px dashed gray;margin: 0 0.4em 0.5em 0.4em;box-sizing: border-box;padding-bottom: 0.4em;background-color: white;}#sk-container-id-1 div.sk-label label {font-family: monospace;font-weight: bold;display: inline-block;line-height: 1.2em;}#sk-container-id-1 div.sk-label-container {text-align: center;}#sk-container-id-1 div.sk-container {/* jupyter's `normalize.less` sets `[hidden] { display: none; }` but bootstrap.min.css set `[hidden] { display: none !important; }` so we also need the `!important` here to be able to override the default hidden behavior on the sphinx rendered scikit-learn.org. See: https://github.com/scikit-learn/scikit-learn/issues/21755 */display: inline-block !important;position: relative;}#sk-container-id-1 div.sk-text-repr-fallback {display: none;}</style><div id=\"sk-container-id-1\" class=\"sk-top-container\"><div class=\"sk-text-repr-fallback\"><pre>OneClassSVM()</pre><b>In a Jupyter environment, please rerun this cell to show the HTML representation or trust the notebook. <br />On GitHub, the HTML representation is unable to render, please try loading this page with nbviewer.org.</b></div><div class=\"sk-container\" hidden><div class=\"sk-item\"><div class=\"sk-estimator sk-toggleable\"><input class=\"sk-toggleable__control sk-hidden--visually\" id=\"sk-estimator-id-1\" type=\"checkbox\" checked><label for=\"sk-estimator-id-1\" class=\"sk-toggleable__label sk-toggleable__label-arrow\">OneClassSVM</label><div class=\"sk-toggleable__content\"><pre>OneClassSVM()</pre></div></div></div></div></div>"
      ],
      "text/plain": [
       "OneClassSVM()"
      ]
     },
     "execution_count": null,
     "metadata": {},
     "output_type": "execute_result"
    }
   ],
   "source": [
    "model.fit(Xtrain)"
   ]
  },
  {
   "cell_type": "code",
   "execution_count": null,
   "id": "0ff3780a",
   "metadata": {},
   "outputs": [
    {
     "ename": "ValueError",
     "evalue": "Found array with dim 3. OneClassSVM expected <= 2.",
     "output_type": "error",
     "traceback": [
      "\u001b[0;31m---------------------------------------------------------------------------\u001b[0m",
      "\u001b[0;31mValueError\u001b[0m                                Traceback (most recent call last)",
      "\u001b[0;32m<ipython-input-36-ed603f38dff4>\u001b[0m in \u001b[0;36m<module>\u001b[0;34m\u001b[0m\n\u001b[0;32m----> 1\u001b[0;31m \u001b[0mpreds\u001b[0m \u001b[0;34m=\u001b[0m \u001b[0mmodel\u001b[0m\u001b[0;34m.\u001b[0m\u001b[0mpredict\u001b[0m\u001b[0;34m(\u001b[0m\u001b[0mX_sample\u001b[0m\u001b[0;34m[\u001b[0m\u001b[0;32mNone\u001b[0m\u001b[0;34m,\u001b[0m \u001b[0;34m:\u001b[0m\u001b[0;34m]\u001b[0m\u001b[0;34m)\u001b[0m\u001b[0;34m\u001b[0m\u001b[0;34m\u001b[0m\u001b[0m\n\u001b[0m",
      "\u001b[0;32m/opt/anaconda3/lib/python3.8/site-packages/sklearn/svm/_classes.py\u001b[0m in \u001b[0;36mpredict\u001b[0;34m(self, X)\u001b[0m\n\u001b[1;32m   1718\u001b[0m             \u001b[0mClass\u001b[0m \u001b[0mlabels\u001b[0m \u001b[0;32mfor\u001b[0m \u001b[0msamples\u001b[0m \u001b[0;32min\u001b[0m \u001b[0mX\u001b[0m\u001b[0;34m.\u001b[0m\u001b[0;34m\u001b[0m\u001b[0;34m\u001b[0m\u001b[0m\n\u001b[1;32m   1719\u001b[0m         \"\"\"\n\u001b[0;32m-> 1720\u001b[0;31m         \u001b[0my\u001b[0m \u001b[0;34m=\u001b[0m \u001b[0msuper\u001b[0m\u001b[0;34m(\u001b[0m\u001b[0;34m)\u001b[0m\u001b[0;34m.\u001b[0m\u001b[0mpredict\u001b[0m\u001b[0;34m(\u001b[0m\u001b[0mX\u001b[0m\u001b[0;34m)\u001b[0m\u001b[0;34m\u001b[0m\u001b[0;34m\u001b[0m\u001b[0m\n\u001b[0m\u001b[1;32m   1721\u001b[0m         \u001b[0;32mreturn\u001b[0m \u001b[0mnp\u001b[0m\u001b[0;34m.\u001b[0m\u001b[0masarray\u001b[0m\u001b[0;34m(\u001b[0m\u001b[0my\u001b[0m\u001b[0;34m,\u001b[0m \u001b[0mdtype\u001b[0m\u001b[0;34m=\u001b[0m\u001b[0mnp\u001b[0m\u001b[0;34m.\u001b[0m\u001b[0mintp\u001b[0m\u001b[0;34m)\u001b[0m\u001b[0;34m\u001b[0m\u001b[0;34m\u001b[0m\u001b[0m\n\u001b[1;32m   1722\u001b[0m \u001b[0;34m\u001b[0m\u001b[0m\n",
      "\u001b[0;32m/opt/anaconda3/lib/python3.8/site-packages/sklearn/svm/_base.py\u001b[0m in \u001b[0;36mpredict\u001b[0;34m(self, X)\u001b[0m\n\u001b[1;32m    431\u001b[0m             \u001b[0mThe\u001b[0m \u001b[0mpredicted\u001b[0m \u001b[0mvalues\u001b[0m\u001b[0;34m.\u001b[0m\u001b[0;34m\u001b[0m\u001b[0;34m\u001b[0m\u001b[0m\n\u001b[1;32m    432\u001b[0m         \"\"\"\n\u001b[0;32m--> 433\u001b[0;31m         \u001b[0mX\u001b[0m \u001b[0;34m=\u001b[0m \u001b[0mself\u001b[0m\u001b[0;34m.\u001b[0m\u001b[0m_validate_for_predict\u001b[0m\u001b[0;34m(\u001b[0m\u001b[0mX\u001b[0m\u001b[0;34m)\u001b[0m\u001b[0;34m\u001b[0m\u001b[0;34m\u001b[0m\u001b[0m\n\u001b[0m\u001b[1;32m    434\u001b[0m         \u001b[0mpredict\u001b[0m \u001b[0;34m=\u001b[0m \u001b[0mself\u001b[0m\u001b[0;34m.\u001b[0m\u001b[0m_sparse_predict\u001b[0m \u001b[0;32mif\u001b[0m \u001b[0mself\u001b[0m\u001b[0;34m.\u001b[0m\u001b[0m_sparse\u001b[0m \u001b[0;32melse\u001b[0m \u001b[0mself\u001b[0m\u001b[0;34m.\u001b[0m\u001b[0m_dense_predict\u001b[0m\u001b[0;34m\u001b[0m\u001b[0;34m\u001b[0m\u001b[0m\n\u001b[1;32m    435\u001b[0m         \u001b[0;32mreturn\u001b[0m \u001b[0mpredict\u001b[0m\u001b[0;34m(\u001b[0m\u001b[0mX\u001b[0m\u001b[0;34m)\u001b[0m\u001b[0;34m\u001b[0m\u001b[0;34m\u001b[0m\u001b[0m\n",
      "\u001b[0;32m/opt/anaconda3/lib/python3.8/site-packages/sklearn/svm/_base.py\u001b[0m in \u001b[0;36m_validate_for_predict\u001b[0;34m(self, X)\u001b[0m\n\u001b[1;32m    609\u001b[0m \u001b[0;34m\u001b[0m\u001b[0m\n\u001b[1;32m    610\u001b[0m         \u001b[0;32mif\u001b[0m \u001b[0;32mnot\u001b[0m \u001b[0mcallable\u001b[0m\u001b[0;34m(\u001b[0m\u001b[0mself\u001b[0m\u001b[0;34m.\u001b[0m\u001b[0mkernel\u001b[0m\u001b[0;34m)\u001b[0m\u001b[0;34m:\u001b[0m\u001b[0;34m\u001b[0m\u001b[0;34m\u001b[0m\u001b[0m\n\u001b[0;32m--> 611\u001b[0;31m             X = self._validate_data(\n\u001b[0m\u001b[1;32m    612\u001b[0m                 \u001b[0mX\u001b[0m\u001b[0;34m,\u001b[0m\u001b[0;34m\u001b[0m\u001b[0;34m\u001b[0m\u001b[0m\n\u001b[1;32m    613\u001b[0m                 \u001b[0maccept_sparse\u001b[0m\u001b[0;34m=\u001b[0m\u001b[0;34m\"csr\"\u001b[0m\u001b[0;34m,\u001b[0m\u001b[0;34m\u001b[0m\u001b[0;34m\u001b[0m\u001b[0m\n",
      "\u001b[0;32m/opt/anaconda3/lib/python3.8/site-packages/sklearn/base.py\u001b[0m in \u001b[0;36m_validate_data\u001b[0;34m(self, X, y, reset, validate_separately, **check_params)\u001b[0m\n\u001b[1;32m    575\u001b[0m             \u001b[0;32mraise\u001b[0m \u001b[0mValueError\u001b[0m\u001b[0;34m(\u001b[0m\u001b[0;34m\"Validation should be done on X, y or both.\"\u001b[0m\u001b[0;34m)\u001b[0m\u001b[0;34m\u001b[0m\u001b[0;34m\u001b[0m\u001b[0m\n\u001b[1;32m    576\u001b[0m         \u001b[0;32melif\u001b[0m \u001b[0;32mnot\u001b[0m \u001b[0mno_val_X\u001b[0m \u001b[0;32mand\u001b[0m \u001b[0mno_val_y\u001b[0m\u001b[0;34m:\u001b[0m\u001b[0;34m\u001b[0m\u001b[0;34m\u001b[0m\u001b[0m\n\u001b[0;32m--> 577\u001b[0;31m             \u001b[0mX\u001b[0m \u001b[0;34m=\u001b[0m \u001b[0mcheck_array\u001b[0m\u001b[0;34m(\u001b[0m\u001b[0mX\u001b[0m\u001b[0;34m,\u001b[0m \u001b[0minput_name\u001b[0m\u001b[0;34m=\u001b[0m\u001b[0;34m\"X\"\u001b[0m\u001b[0;34m,\u001b[0m \u001b[0;34m**\u001b[0m\u001b[0mcheck_params\u001b[0m\u001b[0;34m)\u001b[0m\u001b[0;34m\u001b[0m\u001b[0;34m\u001b[0m\u001b[0m\n\u001b[0m\u001b[1;32m    578\u001b[0m             \u001b[0mout\u001b[0m \u001b[0;34m=\u001b[0m \u001b[0mX\u001b[0m\u001b[0;34m\u001b[0m\u001b[0;34m\u001b[0m\u001b[0m\n\u001b[1;32m    579\u001b[0m         \u001b[0;32melif\u001b[0m \u001b[0mno_val_X\u001b[0m \u001b[0;32mand\u001b[0m \u001b[0;32mnot\u001b[0m \u001b[0mno_val_y\u001b[0m\u001b[0;34m:\u001b[0m\u001b[0;34m\u001b[0m\u001b[0;34m\u001b[0m\u001b[0m\n",
      "\u001b[0;32m/opt/anaconda3/lib/python3.8/site-packages/sklearn/utils/validation.py\u001b[0m in \u001b[0;36mcheck_array\u001b[0;34m(array, accept_sparse, accept_large_sparse, dtype, order, copy, force_all_finite, ensure_2d, allow_nd, ensure_min_samples, ensure_min_features, estimator, input_name)\u001b[0m\n\u001b[1;32m    887\u001b[0m \u001b[0;34m\u001b[0m\u001b[0m\n\u001b[1;32m    888\u001b[0m         \u001b[0;32mif\u001b[0m \u001b[0;32mnot\u001b[0m \u001b[0mallow_nd\u001b[0m \u001b[0;32mand\u001b[0m \u001b[0marray\u001b[0m\u001b[0;34m.\u001b[0m\u001b[0mndim\u001b[0m \u001b[0;34m>=\u001b[0m \u001b[0;36m3\u001b[0m\u001b[0;34m:\u001b[0m\u001b[0;34m\u001b[0m\u001b[0;34m\u001b[0m\u001b[0m\n\u001b[0;32m--> 889\u001b[0;31m             raise ValueError(\n\u001b[0m\u001b[1;32m    890\u001b[0m                 \u001b[0;34m\"Found array with dim %d. %s expected <= 2.\"\u001b[0m\u001b[0;34m\u001b[0m\u001b[0;34m\u001b[0m\u001b[0m\n\u001b[1;32m    891\u001b[0m                 \u001b[0;34m%\u001b[0m \u001b[0;34m(\u001b[0m\u001b[0marray\u001b[0m\u001b[0;34m.\u001b[0m\u001b[0mndim\u001b[0m\u001b[0;34m,\u001b[0m \u001b[0mestimator_name\u001b[0m\u001b[0;34m)\u001b[0m\u001b[0;34m\u001b[0m\u001b[0;34m\u001b[0m\u001b[0m\n",
      "\u001b[0;31mValueError\u001b[0m: Found array with dim 3. OneClassSVM expected <= 2."
     ]
    }
   ],
   "source": [
    "preds = model.predict(X_sample[None, :])"
   ]
  },
  {
   "cell_type": "code",
   "execution_count": null,
   "id": "6a8d20d2",
   "metadata": {},
   "outputs": [],
   "source": [
    "preds"
   ]
  },
  {
   "cell_type": "code",
   "execution_count": null,
   "id": "33725db6",
   "metadata": {},
   "outputs": [],
   "source": [
    "#export\n",
    "class SVMDomain:\n",
    "    from sklearn.svm import OneClassSVM\n",
    "    def __init__(self, Xref:np.array, svm_model=None):\n",
    "        \n",
    "        \"\"\"Calculates the applicability domain using the k-nearest neighbours approach\n",
    "        \n",
    "        Attributes\n",
    "        -----------------------------------------------------------------------------\n",
    "        \n",
    "        Xref : numpy.array\n",
    "            Reference fingerprints\n",
    "        \n",
    "        \n",
    "        \"\"\"\n",
    "          \n",
    "        self.Xref = Xref\n",
    "        self.svm_model = OneClassSVM() if svm_model is None else svm_model\n",
    "\n",
    "        \n",
    "    @property\n",
    "    def svm_model(self):\n",
    "        return self._svm_model\n",
    " \n",
    "    @svm_model.setter\n",
    "    def svm_model(self, v):\n",
    "        self._svm_model = v      \n",
    "\n",
    "    def train_model(self, X:np.array=None, params={}):\n",
    "\n",
    "        \"\"\"Train a One class SVM model for outlier detection.\n",
    "\n",
    "        Arguments\n",
    "        -----------------------------------------------------------------------------\n",
    "\n",
    "        X : numpy.array\n",
    "            An array of fingerprints for the training set\n",
    "\n",
    "\n",
    "        params : dict\n",
    "           A dictionary of parameters for OneClassSVM\n",
    "\n",
    "        Returns\n",
    "        -----------------------------------------------------------------------------\n",
    "\n",
    "        svm_model : Fitted estimator\n",
    "\n",
    "\n",
    "        \"\"\"\n",
    "\n",
    "        \n",
    "        X = self.Xref if X is None else X\n",
    "        self.svm_model.set_params(**params)\n",
    "        self.svm_model.fit(X)\n",
    "        return self.svm_model\n",
    "\n",
    "    def calculate_applicability_domain(self, Xtest:np.array=None):\n",
    "\n",
    "        \"\"\"Perform classification on samples in Xtest.\n",
    "\n",
    "        Arguments\n",
    "        -----------------------------------------------------------------------------\n",
    "\n",
    "        Xtest : numpy.array\n",
    "            An array of fingerprints.\n",
    "\n",
    "        Returns\n",
    "        -----------------------------------------------------------------------------\n",
    "\n",
    "        class_label : int\n",
    "            For a one-class model, +1 or -1 is returned.\n",
    "\n",
    "\n",
    "        \"\"\"\n",
    "\n",
    "        return self.svm_model.predict(Xtest)"
   ]
  },
  {
   "cell_type": "code",
   "execution_count": null,
   "id": "2b3a149d",
   "metadata": {},
   "outputs": [],
   "source": [
    "svm_domain = SVMDomain(Xtrain)"
   ]
  },
  {
   "cell_type": "code",
   "execution_count": null,
   "id": "dbe56d7b",
   "metadata": {},
   "outputs": [],
   "source": [
    "svm_domain.svm_model"
   ]
  },
  {
   "cell_type": "code",
   "execution_count": null,
   "id": "d32fe120",
   "metadata": {},
   "outputs": [],
   "source": [
    "svm_domain.train_model()"
   ]
  },
  {
   "cell_type": "code",
   "execution_count": null,
   "id": "14b4c5e0",
   "metadata": {},
   "outputs": [],
   "source": [
    "svm_domain.calculate_applicability_domain(X_sample[None, :])"
   ]
  },
  {
   "cell_type": "code",
   "execution_count": null,
   "id": "9468ab76",
   "metadata": {},
   "outputs": [
    {
     "name": "stdout",
     "output_type": "stream",
     "text": [
      "Converted AD.ipynb.\n"
     ]
    }
   ],
   "source": [
    "#hide\n",
    "from nbdev.export import notebook2script\n",
    "notebook2script(fname='AD.ipynb')"
   ]
  },
  {
   "cell_type": "code",
   "execution_count": null,
   "id": "ca45a707",
   "metadata": {},
   "outputs": [],
   "source": []
  }
 ],
 "metadata": {
  "kernelspec": {
   "display_name": "Python 3",
   "language": "python",
   "name": "python3"
  }
 },
 "nbformat": 4,
 "nbformat_minor": 5
}
